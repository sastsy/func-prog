{
 "cells": [
  {
   "cell_type": "code",
   "execution_count": 1,
   "metadata": {},
   "outputs": [],
   "source": [
    "import vk\n",
    "import requests\n",
    "import pandas as pd\n",
    "\n",
    "import asyncio\n",
    "\n",
    "from telethon import TelegramClient\n",
    "\n",
    "from nltk.corpus import stopwords"
   ]
  },
  {
   "attachments": {},
   "cell_type": "markdown",
   "metadata": {},
   "source": [
    "## Парсинг из ВК"
   ]
  },
  {
   "cell_type": "code",
   "execution_count": 61,
   "metadata": {},
   "outputs": [],
   "source": [
    "def collect_posts() -> None:\n",
    "    TOKEN = 'de7d677dde7d677dde7d677d04dd688e40dde7dde7d677dbb58c0ecf4cbfcbd48826c49'\n",
    "    version = 5.131\n",
    "    domain = \"fmmt_sstu\"\n",
    "    count = 100\n",
    "    response = requests.get(\n",
    "        'https://api.vk.com/method/wall.get',\n",
    "        params = {\n",
    "            'access_token' : TOKEN,\n",
    "            'v': version,\n",
    "            'domain': domain,\n",
    "            'count': count\n",
    "                            }\n",
    "\n",
    "    )\n",
    "    data = response.json()['response']['items'][3]['text']\n",
    "    print(data)"
   ]
  },
  {
   "cell_type": "markdown",
   "metadata": {},
   "source": [
    "## Парсинг из ТГ"
   ]
  },
  {
   "cell_type": "code",
   "execution_count": 63,
   "metadata": {},
   "outputs": [
    {
     "name": "stdout",
     "output_type": "stream",
     "text": [
      "@medvedev_telegram\n",
      "@vv_volodin\n",
      "@litvintm\n",
      "@alfabank\n",
      "@readovkanews\n",
      "@ТопорLife\n",
      "@breakingmash\n",
      "@aleksandr_skif\n",
      "@rian_ru\n",
      "@moscowmap\n",
      "@kuplinov_telegram\n",
      "@mrs_druzhinina\n",
      "@ПрямойЭфир\n",
      "@rusich_army\n",
      "@rkadyrov_95\n",
      "@br1anm7ps\n",
      "@a4omg\n",
      "@lyalina_natalie\n",
      "@sladkov_plus\n",
      "@ostorozhno_novosti\n",
      "@bbbreaking\n",
      "@rvvoenkor\n",
      "@neoficialniybezsonov\n",
      "@Alezhao\n",
      "@elenaraytman\n",
      "@varlamov\n",
      "@exilemusic13\n",
      "@bigpencil\n",
      "@gosuslugi\n",
      "@varlamov_news\n"
     ]
    }
   ],
   "source": [
    "string = input().split()\n",
    "for i in string:\n",
    "    if i[0] == '@':\n",
    "        print(i)"
   ]
  },
  {
   "cell_type": "markdown",
   "metadata": {},
   "source": [
    "## Основной запуск"
   ]
  },
  {
   "cell_type": "code",
   "execution_count": 78,
   "metadata": {},
   "outputs": [
    {
     "name": "stdout",
     "output_type": "stream",
     "text": [
      "club91050183\n",
      "club28905875\n",
      "club152219848\n",
      "club66678575\n",
      "club31480508\n",
      "club73247559\n",
      "club57846937\n",
      "club67580761\n",
      "club101982925\n",
      "club460389\n",
      "club8722610\n",
      "club159146575\n",
      "club71729358\n",
      "club184225789\n",
      "club30022666\n",
      "club12382740\n",
      "club32370614\n",
      "club29599237\n",
      "club30602036\n",
      "club26030283\n",
      "club34215577\n",
      "club71474813\n",
      "club123541018\n",
      "club139923997\n",
      "club161486117\n",
      "club113071474\n",
      "club58737741\n",
      "club29534144\n",
      "club114086029\n",
      "club39566948\n",
      "club58170807\n",
      "club174163010\n",
      "club187263168\n",
      "club180554744\n",
      "club23213239\n",
      "club32015300\n",
      "club22746750\n",
      "club29246653\n",
      "club28477986\n",
      "club124668503\n",
      "club14785431\n",
      "club41437811\n",
      "club38683579\n",
      "club9884911\n",
      "club106084026\n",
      "club103027469\n",
      "club16202769\n",
      "club171193480\n",
      "club40553536\n",
      "club17485920\n",
      "\n"
     ]
    }
   ],
   "source": [
    "with open('vk-groups.txt', 'r') as file:\n",
    "    f = open('vk.txt', 'a')\n",
    "    l = file.read().split('\\n')\n",
    "    for i in l:\n",
    "        print(i[:-2])\n",
    "        f.write(i[4:-2])\n",
    "        f.write('\\n')\n",
    "    f.close()\n",
    "    file.close()"
   ]
  },
  {
   "cell_type": "code",
   "execution_count": 1,
   "metadata": {},
   "outputs": [],
   "source": [
    "from nltk.corpus import stopwords"
   ]
  },
  {
   "cell_type": "code",
   "execution_count": 4,
   "metadata": {},
   "outputs": [
    {
     "data": {
      "text/plain": [
       "True"
      ]
     },
     "execution_count": 4,
     "metadata": {},
     "output_type": "execute_result"
    }
   ],
   "source": [
    "'а' in set(stopwords.words('russian'))"
   ]
  }
 ],
 "metadata": {
  "kernelspec": {
   "display_name": "Python 3",
   "language": "python",
   "name": "python3"
  },
  "language_info": {
   "codemirror_mode": {
    "name": "ipython",
    "version": 3
   },
   "file_extension": ".py",
   "mimetype": "text/x-python",
   "name": "python",
   "nbconvert_exporter": "python",
   "pygments_lexer": "ipython3",
   "version": "3.9.0"
  },
  "orig_nbformat": 4
 },
 "nbformat": 4,
 "nbformat_minor": 2
}
