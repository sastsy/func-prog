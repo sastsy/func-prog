{
 "cells": [
  {
   "cell_type": "code",
   "execution_count": 2,
   "metadata": {},
   "outputs": [],
   "source": [
    "from functools import reduce"
   ]
  },
  {
   "attachments": {},
   "cell_type": "markdown",
   "metadata": {},
   "source": [
    "## Task 1"
   ]
  },
  {
   "cell_type": "code",
   "execution_count": 6,
   "metadata": {},
   "outputs": [],
   "source": [
    "students = [\n",
    "  {\"name\": \"Alice\", \"age\": 20, \"grades\": [85, 90, 88, 92]},\n",
    "  {\"name\": \"Bob\", \"age\": 22, \"grades\": [95, 87, 91, 89]},\n",
    "  {\"name\": \"Charlie\", \"age\": 19, \"grades\": [78, 86, 93, 90]},\n",
    "  {\"name\": \"David\", \"age\": 21, \"grades\": [92, 89, 85, 88]},\n",
    "  {\"name\": \"Emma\", \"age\": 20, \"grades\": [87, 92, 84, 90]},\n",
    "  {\"name\": \"Frank\", \"age\": 23, \"grades\": [90, 91, 88, 86]},\n",
    "  {\"name\": \"Grace\", \"age\": 19, \"grades\": [89, 92, 87, 91]},\n",
    "  {\"name\": \"Henry\", \"age\": 22, \"grades\": [91, 88, 92, 87]},\n",
    "  {\"name\": \"Isabella\", \"age\": 20, \"grades\": [88, 90, 93, 85]},\n",
    "  {\"name\": \"Jack\", \"age\": 21, \"grades\": [86, 89, 91, 88]},\n",
    "  {\"name\": \"Kate\", \"age\": 19, \"grades\": [92, 87, 90, 89]},\n",
    "  {\"name\": \"Liam\", \"age\": 22, \"grades\": [91, 88, 86, 90]},\n",
    "  {\"name\": \"Mia\", \"age\": 20, \"grades\": [85, 92, 90, 88]},\n",
    "  {\"name\": \"Noah\", \"age\": 21, \"grades\": [89, 91, 87, 92]},\n",
    "  {\"name\": \"Olivia\", \"age\": 19, \"grades\": [86, 90, 92, 88]},\n",
    "  {\"name\": \"Patrick\", \"age\": 22, \"grades\": [90, 88, 91, 87]},\n",
    "  {\"name\": \"Quinn\", \"age\": 20, \"grades\": [92, 85, 88, 90]},\n",
    "  {\"name\": \"Ryan\", \"age\": 21, \"grades\": [87, 91, 89, 92]},\n",
    "  {\"name\": \"Sophia\", \"age\": 19, \"grades\": [90, 88, 86, 91]},\n",
    "  {\"name\": \"Thomas\", \"age\": 22, \"grades\": [92, 90, 87, 89]}\n",
    "]"
   ]
  },
  {
   "cell_type": "code",
   "execution_count": 8,
   "metadata": {},
   "outputs": [
    {
     "name": "stdout",
     "output_type": "stream",
     "text": [
      "[{'name': 'Alice', 'age': 20, 'grades': [85, 90, 88, 92]}, {'name': 'Isabella', 'age': 20, 'grades': [88, 90, 93, 85]}, {'name': 'Mia', 'age': 20, 'grades': [85, 92, 90, 88]}, {'name': 'Quinn', 'age': 20, 'grades': [92, 85, 88, 90]}]\n",
      "[88.75, 90.5, 86.75, 88.5, 88.25, 88.75, 89.75, 89.5, 89.0, 88.5, 89.5, 88.75, 88.75, 89.75, 89.0, 89.0, 88.75, 89.75, 88.75, 89.5]\n",
      "90.5\n"
     ]
    }
   ],
   "source": [
    "filtered_students = list(filter(lambda student: student[\"age\"] == 20 and 85 in student[\"grades\"], students))\n",
    "average_grades = list(map(lambda student: reduce(lambda x, y: x + y, student[\"grades\"]) / len(student[\"grades\"]), students))\n",
    "highest_average_grade = reduce(lambda x, y: x if x > y else y, average_grades)\n",
    "\n",
    "print(filtered_students)\n",
    "print(average_grades)\n",
    "print(highest_average_grade)"
   ]
  },
  {
   "attachments": {},
   "cell_type": "markdown",
   "metadata": {},
   "source": [
    "## Task 2"
   ]
  },
  {
   "cell_type": "code",
   "execution_count": 12,
   "metadata": {},
   "outputs": [],
   "source": [
    "users = [\n",
    "    {\"name\": \"Alice\", \"expenses\": [100, 50, 75, 200]},\n",
    "    {\"name\": \"Bob\", \"expenses\": [50, 75, 80, 100]},\n",
    "    {\"name\": \"Charlie\", \"expenses\": [200, 300, 50, 150]},\n",
    "    {\"name\": \"David\", \"expenses\": [100, 200, 300, 400]},\n",
    "    {\"name\": \"Emma\", \"expenses\": [150, 100, 50, 200]},\n",
    "    {\"name\": \"Frank\", \"expenses\": [75, 80, 100, 150]},\n",
    "    {\"name\": \"Grace\", \"expenses\": [200, 300, 50, 100]},\n",
    "    {\"name\": \"Henry\", \"expenses\": [100, 200, 300, 400]},\n",
    "    {\"name\": \"Isabella\", \"expenses\": [100, 50, 75, 200]},\n",
    "    {\"name\": \"Jack\", \"expenses\": [50, 75, 80, 100]},\n",
    "    {\"name\": \"Kate\", \"expenses\": [200, 300, 50, 150]},\n",
    "    {\"name\": \"Liam\", \"expenses\": [100, 200, 300, 400]},\n",
    "    {\"name\": \"Mia\", \"expenses\": [150, 100, 50, 200]},\n",
    "    {\"name\": \"Noah\", \"expenses\": [75, 80, 100, 150]},\n",
    "    {\"name\": \"Olivia\", \"expenses\": [200, 300, 50, 100]},\n",
    "    {\"name\": \"Patrick\", \"expenses\": [100, 200, 300, 400]},\n",
    "    {\"name\": \"Quinn\", \"expenses\": [100, 50, 75, 200]},\n",
    "    {\"name\": \"Ryan\", \"expenses\": [50, 75, 80, 100]},\n",
    "    {\"name\": \"Sophia\", \"expenses\": [200, 300, 50, 150]},\n",
    "    {\"name\": \"Thomas\", \"expenses\": [100, 200, 300, 400]}\n",
    "    # ... (другие пользователи)\n",
    "]"
   ]
  },
  {
   "cell_type": "code",
   "execution_count": 13,
   "metadata": {},
   "outputs": [
    {
     "name": "stdout",
     "output_type": "stream",
     "text": [
      "[{'name': 'Charlie', 'expenses': [200, 300, 50, 150]}, {'name': 'David', 'expenses': [100, 200, 300, 400]}, {'name': 'Grace', 'expenses': [200, 300, 50, 100]}, {'name': 'Henry', 'expenses': [100, 200, 300, 400]}, {'name': 'Kate', 'expenses': [200, 300, 50, 150]}, {'name': 'Liam', 'expenses': [100, 200, 300, 400]}, {'name': 'Olivia', 'expenses': [200, 300, 50, 100]}, {'name': 'Patrick', 'expenses': [100, 200, 300, 400]}, {'name': 'Sophia', 'expenses': [200, 300, 50, 150]}, {'name': 'Thomas', 'expenses': [100, 200, 300, 400]}]\n",
      "[700, 1000, 650, 1000, 700, 1000, 650, 1000, 700, 1000]\n",
      "8400\n"
     ]
    }
   ],
   "source": [
    "filtered_users = list(filter(lambda user: reduce(lambda x, y: x + y, user[\"expenses\"]) > 500, users))\n",
    "total_expenses_per_user = list(map(lambda user: reduce(lambda x, y: x + y, user[\"expenses\"]), filtered_users))\n",
    "total_expenses = reduce(lambda x, y: x + y, total_expenses_per_user)\n",
    "\n",
    "print(filtered_users)\n",
    "print(total_expenses_per_user)\n",
    "print(total_expenses)"
   ]
  },
  {
   "cell_type": "markdown",
   "metadata": {},
   "source": [
    "## Task 3"
   ]
  },
  {
   "cell_type": "code",
   "execution_count": 15,
   "metadata": {},
   "outputs": [],
   "source": [
    "orders = [\n",
    "    {\"order_id\": 1, \"customer_id\": 101, \"amount\": 150.0},\n",
    "    {\"order_id\": 2, \"customer_id\": 102, \"amount\": 200.0},\n",
    "    {\"order_id\": 3, \"customer_id\": 101, \"amount\": 75.0},\n",
    "    {\"order_id\": 4, \"customer_id\": 103, \"amount\": 100.0},\n",
    "    {\"order_id\": 5, \"customer_id\": 101, \"amount\": 50.0},\n",
    "    {\"order_id\": 6, \"customer_id\": 104, \"amount\": 175.0},\n",
    "    {\"order_id\": 7, \"customer_id\": 105, \"amount\": 125.0},\n",
    "    {\"order_id\": 8, \"customer_id\": 106, \"amount\": 250.0},\n",
    "    {\"order_id\": 9, \"customer_id\": 107, \"amount\": 300.0},\n",
    "    {\"order_id\": 10, \"customer_id\": 108, \"amount\": 100.0},\n",
    "    {\"order_id\": 11, \"customer_id\": 109, \"amount\": 150.0},\n",
    "    {\"order_id\": 12, \"customer_id\": 110, \"amount\": 200.0},\n",
    "    {\"order_id\": 13, \"customer_id\": 111, \"amount\": 75.0},\n",
    "    {\"order_id\": 14, \"customer_id\": 112, \"amount\": 100.0},\n",
    "    {\"order_id\": 15, \"customer_id\": 113, \"amount\": 50.0},\n",
    "    {\"order_id\": 16, \"customer_id\": 114, \"amount\": 175.0},\n",
    "    {\"order_id\": 17, \"customer_id\": 115, \"amount\": 125.0},\n",
    "    {\"order_id\": 18, \"customer_id\": 116, \"amount\": 250.0},\n",
    "    {\"order_id\": 19, \"customer_id\": 117, \"amount\": 300.0},\n",
    "    {\"order_id\": 20, \"customer_id\": 118, \"amount\": 100.0}\n",
    "\n",
    "# ... (далее по списку) \n",
    "]"
   ]
  },
  {
   "cell_type": "code",
   "execution_count": 16,
   "metadata": {},
   "outputs": [
    {
     "name": "stdout",
     "output_type": "stream",
     "text": [
      "[{'order_id': 1, 'customer_id': 101, 'amount': 150.0}, {'order_id': 3, 'customer_id': 101, 'amount': 75.0}, {'order_id': 5, 'customer_id': 101, 'amount': 50.0}]\n",
      "275.0\n",
      "91.66666666666667\n"
     ]
    }
   ],
   "source": [
    "customer_id = 101\n",
    "filtered_orders = list(filter(lambda order: order[\"customer_id\"] == customer_id, orders))\n",
    "\n",
    "# Подсчитать общую сумму всех заказов для данного клиента\n",
    "total_amount = reduce(lambda x, y: x + y[\"amount\"], filtered_orders, 0)\n",
    "\n",
    "# Найти среднюю стоимость заказов для данного клиента\n",
    "average_amount = total_amount / len(filtered_orders) if len(filtered_orders) > 0 else 0\n",
    "\n",
    "print(filtered_orders)\n",
    "print(total_amount)\n",
    "print(average_amount)"
   ]
  }
 ],
 "metadata": {
  "kernelspec": {
   "display_name": "Python 3",
   "language": "python",
   "name": "python3"
  },
  "language_info": {
   "codemirror_mode": {
    "name": "ipython",
    "version": 3
   },
   "file_extension": ".py",
   "mimetype": "text/x-python",
   "name": "python",
   "nbconvert_exporter": "python",
   "pygments_lexer": "ipython3",
   "version": "3.9.0"
  },
  "orig_nbformat": 4
 },
 "nbformat": 4,
 "nbformat_minor": 2
}
