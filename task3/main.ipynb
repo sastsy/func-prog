{
 "cells": [
  {
   "cell_type": "code",
   "execution_count": 1,
   "metadata": {},
   "outputs": [],
   "source": [
    "import asyncio"
   ]
  },
  {
   "cell_type": "code",
   "execution_count": 2,
   "metadata": {},
   "outputs": [],
   "source": [
    "class ChatServer:\n",
    "    def __init__(self, host, port):\n",
    "        self.host = host\n",
    "        self.port = port\n",
    "        self.clients = []\n",
    "        self.rooms = {}\n",
    "\n",
    "    async def handle_client(self, reader, writer):\n",
    "        client_name = await reader.read(100)\n",
    "        client_name = client_name.decode().strip()\n",
    "        print(f\"New client connected: {client_name}\")\n",
    "\n",
    "        writer.write(b\"Connected to the chat server\\n\")\n",
    "        await writer.drain()\n",
    "\n",
    "        self.clients.append((reader, writer))\n",
    "\n",
    "        while True:\n",
    "            data = await reader.read(100)\n",
    "            message = data.decode().strip()\n",
    "\n",
    "            if message == \"quit\":\n",
    "                break\n",
    "\n",
    "            if message.startswith(\"join\"):\n",
    "                room = message.split()[1]\n",
    "                self.join_room(client_name, room)\n",
    "            elif message.startswith(\"leave\"):\n",
    "                room = message.split()[1]\n",
    "                self.leave_room(client_name, room)\n",
    "            else:\n",
    "                await self.send_message(client_name, message)\n",
    "\n",
    "        print(f\"Client disconnected: {client_name}\")\n",
    "        self.clients.remove((reader, writer))\n",
    "        writer.close()\n",
    "        await writer.wait_closed()\n",
    "\n",
    "    def join_room(self, client_name, room):\n",
    "        if room not in self.rooms:\n",
    "            self.rooms[room] = []\n",
    "        self.rooms[room].append(client_name)\n",
    "        print(f\"{client_name} joined room {room}\")\n",
    "\n",
    "    def leave_room(self, client_name, room):\n",
    "        if room in self.rooms and client_name in self.rooms[room]:\n",
    "            self.rooms[room].remove(client_name)\n",
    "            print(f\"{client_name} left room {room}\")\n",
    "\n",
    "    async def send_message(self, sender, message):\n",
    "        for room in self.rooms.values():\n",
    "            if sender in room:\n",
    "                recipients = [client for client in self.clients if client[1] != sender and client[1] in room]\n",
    "                for recipient in recipients:\n",
    "                    recipient[1].write(f\"{sender}: {message}\\n\".encode())\n",
    "                    await recipient[1].drain()\n",
    "\n",
    "    async def start(self):\n",
    "        server = await asyncio.start_server(self.handle_client, self.host, self.port)\n",
    "\n",
    "        addr = server.sockets[0].getsockname()\n",
    "        print(f\"Server started on {addr}\")\n",
    "\n",
    "        async with server:\n",
    "            await server.serve_forever()"
   ]
  },
  {
   "cell_type": "code",
   "execution_count": 4,
   "metadata": {},
   "outputs": [],
   "source": [
    "if __name__ == \"__main__\":\n",
    "    chat_server = ChatServer(\"localhost\", 8888)\n",
    "    #asyncio.run(chat_server.start())"
   ]
  }
 ],
 "metadata": {
  "kernelspec": {
   "display_name": "base",
   "language": "python",
   "name": "python3"
  },
  "language_info": {
   "codemirror_mode": {
    "name": "ipython",
    "version": 3
   },
   "file_extension": ".py",
   "mimetype": "text/x-python",
   "name": "python",
   "nbconvert_exporter": "python",
   "pygments_lexer": "ipython3",
   "version": "3.11.5"
  },
  "orig_nbformat": 4
 },
 "nbformat": 4,
 "nbformat_minor": 2
}
